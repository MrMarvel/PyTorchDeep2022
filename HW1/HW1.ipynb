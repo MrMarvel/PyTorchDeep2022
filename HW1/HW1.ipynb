{
  "nbformat": 4,
  "nbformat_minor": 0,
  "metadata": {
    "colab": {
      "provenance": [],
      "toc_visible": true
    },
    "kernelspec": {
      "name": "python3",
      "display_name": "Python 3"
    },
    "language_info": {
      "name": "python"
    },
    "gpuClass": "standard",
    "accelerator": "GPU"
  },
  "cells": [
    {
      "cell_type": "markdown",
      "source": [
        "# Получение информации об оборудовании"
      ],
      "metadata": {
        "id": "SE_-SpH-mtFc"
      }
    },
    {
      "cell_type": "markdown",
      "source": [
        "**Windows** - GUI\\\n",
        "**Linux** (Google colab) - terminal"
      ],
      "metadata": {
        "id": "lnGz2Eopm3ag"
      }
    },
    {
      "cell_type": "code",
      "source": [
        "# версия Linux\n",
        "!cat /proc/version"
      ],
      "metadata": {
        "colab": {
          "base_uri": "https://localhost:8080/"
        },
        "id": "vPDZJB92omAL",
        "outputId": "3bd8e5ef-dcb2-4334-c797-f78cd97020ab"
      },
      "execution_count": null,
      "outputs": [
        {
          "output_type": "stream",
          "name": "stdout",
          "text": [
            "Linux version 5.10.133+ (builder@b1018906abc3) (Chromium OS 12.0_pre422132_p20210405-r10 clang version 13.0.0 (/var/tmp/portage/sys-devel/llvm-12.0_pre422132_p20210405-r10/work/llvm-12.0_pre422132_p20210405/clang cd442157cff4aad209ae532cbf031abbe10bc1df), LLD 13.0.0 (/var/tmp/portage/sys-devel/llvm-12.0_pre422132_p20210405-r10/work/llvm-12.0_pre422132_p20210405/lld cd442157cff4aad209ae532cbf031abbe10bc1df)) #1 SMP Fri Aug 26 08:44:51 UTC 2022\n"
          ]
        }
      ]
    },
    {
      "cell_type": "code",
      "source": [
        "# версия дистрибутива Linux\n",
        "!lsb_release -a"
      ],
      "metadata": {
        "colab": {
          "base_uri": "https://localhost:8080/"
        },
        "id": "ePuVTgneo0Rs",
        "outputId": "3b0ff28e-d4d5-4a2c-91d0-94879bf592c6"
      },
      "execution_count": null,
      "outputs": [
        {
          "output_type": "stream",
          "name": "stdout",
          "text": [
            "No LSB modules are available.\n",
            "Distributor ID:\tUbuntu\n",
            "Description:\tUbuntu 18.04.6 LTS\n",
            "Release:\t18.04\n",
            "Codename:\tbionic\n"
          ]
        }
      ]
    },
    {
      "cell_type": "code",
      "execution_count": null,
      "metadata": {
        "id": "eXAC5VIPiJl7",
        "colab": {
          "base_uri": "https://localhost:8080/"
        },
        "outputId": "ec333eb2-7924-4e65-f3df-eb3966d34b7e"
      },
      "outputs": [
        {
          "output_type": "stream",
          "name": "stdout",
          "text": [
            "Sun Dec  4 17:47:46 2022       \n",
            "+-----------------------------------------------------------------------------+\n",
            "| NVIDIA-SMI 460.32.03    Driver Version: 460.32.03    CUDA Version: 11.2     |\n",
            "|-------------------------------+----------------------+----------------------+\n",
            "| GPU  Name        Persistence-M| Bus-Id        Disp.A | Volatile Uncorr. ECC |\n",
            "| Fan  Temp  Perf  Pwr:Usage/Cap|         Memory-Usage | GPU-Util  Compute M. |\n",
            "|                               |                      |               MIG M. |\n",
            "|===============================+======================+======================|\n",
            "|   0  Tesla T4            Off  | 00000000:00:04.0 Off |                    0 |\n",
            "| N/A   60C    P0    28W /  70W |    608MiB / 15109MiB |      0%      Default |\n",
            "|                               |                      |                  N/A |\n",
            "+-------------------------------+----------------------+----------------------+\n",
            "                                                                               \n",
            "+-----------------------------------------------------------------------------+\n",
            "| Processes:                                                                  |\n",
            "|  GPU   GI   CI        PID   Type   Process name                  GPU Memory |\n",
            "|        ID   ID                                                   Usage      |\n",
            "|=============================================================================|\n",
            "+-----------------------------------------------------------------------------+\n"
          ]
        }
      ],
      "source": [
        "# видеокарта\n",
        "!nvidia-smi"
      ]
    },
    {
      "cell_type": "markdown",
      "source": [
        "CUDA Version в nvidia-smi - это не ваша текущая версия CUDA, а [максимально поддерживаемая версия](https://docs.nvidia.com/cuda/cuda-toolkit-release-notes/index.html) для текущего драйвера видеокарты."
      ],
      "metadata": {
        "id": "CPIo9i8Tx0aX"
      }
    },
    {
      "cell_type": "code",
      "source": [
        "# cuda compiler\n",
        "!nvcc --version"
      ],
      "metadata": {
        "colab": {
          "base_uri": "https://localhost:8080/"
        },
        "id": "TF2LKwK9wsiH",
        "outputId": "e9b6655a-635a-4c2d-e28a-036e1e4f3cc2"
      },
      "execution_count": null,
      "outputs": [
        {
          "output_type": "stream",
          "name": "stdout",
          "text": [
            "nvcc: NVIDIA (R) Cuda compiler driver\n",
            "Copyright (c) 2005-2021 NVIDIA Corporation\n",
            "Built on Sun_Feb_14_21:12:58_PST_2021\n",
            "Cuda compilation tools, release 11.2, V11.2.152\n",
            "Build cuda_11.2.r11.2/compiler.29618528_0\n"
          ]
        }
      ]
    },
    {
      "cell_type": "code",
      "source": [
        "# процессор\n",
        "!cat /proc/cpuinfo"
      ],
      "metadata": {
        "colab": {
          "base_uri": "https://localhost:8080/"
        },
        "id": "W1vqoHiFnzCk",
        "outputId": "564995dc-8fc4-4a2f-debb-cfbfd7847724"
      },
      "execution_count": null,
      "outputs": [
        {
          "output_type": "stream",
          "name": "stdout",
          "text": [
            "processor\t: 0\n",
            "vendor_id\t: GenuineIntel\n",
            "cpu family\t: 6\n",
            "model\t\t: 85\n",
            "model name\t: Intel(R) Xeon(R) CPU @ 2.00GHz\n",
            "stepping\t: 3\n",
            "microcode\t: 0x1\n",
            "cpu MHz\t\t: 2000.130\n",
            "cache size\t: 39424 KB\n",
            "physical id\t: 0\n",
            "siblings\t: 2\n",
            "core id\t\t: 0\n",
            "cpu cores\t: 1\n",
            "apicid\t\t: 0\n",
            "initial apicid\t: 0\n",
            "fpu\t\t: yes\n",
            "fpu_exception\t: yes\n",
            "cpuid level\t: 13\n",
            "wp\t\t: yes\n",
            "flags\t\t: fpu vme de pse tsc msr pae mce cx8 apic sep mtrr pge mca cmov pat pse36 clflush mmx fxsr sse sse2 ss ht syscall nx pdpe1gb rdtscp lm constant_tsc rep_good nopl xtopology nonstop_tsc cpuid tsc_known_freq pni pclmulqdq ssse3 fma cx16 pcid sse4_1 sse4_2 x2apic movbe popcnt aes xsave avx f16c rdrand hypervisor lahf_lm abm 3dnowprefetch invpcid_single ssbd ibrs ibpb stibp fsgsbase tsc_adjust bmi1 hle avx2 smep bmi2 erms invpcid rtm mpx avx512f avx512dq rdseed adx smap clflushopt clwb avx512cd avx512bw avx512vl xsaveopt xsavec xgetbv1 xsaves arat md_clear arch_capabilities\n",
            "bugs\t\t: cpu_meltdown spectre_v1 spectre_v2 spec_store_bypass l1tf mds swapgs taa mmio_stale_data retbleed\n",
            "bogomips\t: 4000.26\n",
            "clflush size\t: 64\n",
            "cache_alignment\t: 64\n",
            "address sizes\t: 46 bits physical, 48 bits virtual\n",
            "power management:\n",
            "\n",
            "processor\t: 1\n",
            "vendor_id\t: GenuineIntel\n",
            "cpu family\t: 6\n",
            "model\t\t: 85\n",
            "model name\t: Intel(R) Xeon(R) CPU @ 2.00GHz\n",
            "stepping\t: 3\n",
            "microcode\t: 0x1\n",
            "cpu MHz\t\t: 2000.130\n",
            "cache size\t: 39424 KB\n",
            "physical id\t: 0\n",
            "siblings\t: 2\n",
            "core id\t\t: 0\n",
            "cpu cores\t: 1\n",
            "apicid\t\t: 1\n",
            "initial apicid\t: 1\n",
            "fpu\t\t: yes\n",
            "fpu_exception\t: yes\n",
            "cpuid level\t: 13\n",
            "wp\t\t: yes\n",
            "flags\t\t: fpu vme de pse tsc msr pae mce cx8 apic sep mtrr pge mca cmov pat pse36 clflush mmx fxsr sse sse2 ss ht syscall nx pdpe1gb rdtscp lm constant_tsc rep_good nopl xtopology nonstop_tsc cpuid tsc_known_freq pni pclmulqdq ssse3 fma cx16 pcid sse4_1 sse4_2 x2apic movbe popcnt aes xsave avx f16c rdrand hypervisor lahf_lm abm 3dnowprefetch invpcid_single ssbd ibrs ibpb stibp fsgsbase tsc_adjust bmi1 hle avx2 smep bmi2 erms invpcid rtm mpx avx512f avx512dq rdseed adx smap clflushopt clwb avx512cd avx512bw avx512vl xsaveopt xsavec xgetbv1 xsaves arat md_clear arch_capabilities\n",
            "bugs\t\t: cpu_meltdown spectre_v1 spectre_v2 spec_store_bypass l1tf mds swapgs taa mmio_stale_data retbleed\n",
            "bogomips\t: 4000.26\n",
            "clflush size\t: 64\n",
            "cache_alignment\t: 64\n",
            "address sizes\t: 46 bits physical, 48 bits virtual\n",
            "power management:\n",
            "\n"
          ]
        }
      ]
    },
    {
      "cell_type": "code",
      "source": [
        "# процессор\n",
        "!lscpu"
      ],
      "metadata": {
        "colab": {
          "base_uri": "https://localhost:8080/"
        },
        "id": "_q3ACTnJoMJU",
        "outputId": "9b004a0c-8550-42a1-c779-ef2914bf4e11"
      },
      "execution_count": null,
      "outputs": [
        {
          "output_type": "stream",
          "name": "stdout",
          "text": [
            "Architecture:        x86_64\n",
            "CPU op-mode(s):      32-bit, 64-bit\n",
            "Byte Order:          Little Endian\n",
            "CPU(s):              2\n",
            "On-line CPU(s) list: 0,1\n",
            "Thread(s) per core:  2\n",
            "Core(s) per socket:  1\n",
            "Socket(s):           1\n",
            "NUMA node(s):        1\n",
            "Vendor ID:           GenuineIntel\n",
            "CPU family:          6\n",
            "Model:               85\n",
            "Model name:          Intel(R) Xeon(R) CPU @ 2.00GHz\n",
            "Stepping:            3\n",
            "CPU MHz:             2000.130\n",
            "BogoMIPS:            4000.26\n",
            "Hypervisor vendor:   KVM\n",
            "Virtualization type: full\n",
            "L1d cache:           32K\n",
            "L1i cache:           32K\n",
            "L2 cache:            1024K\n",
            "L3 cache:            39424K\n",
            "NUMA node0 CPU(s):   0,1\n",
            "Flags:               fpu vme de pse tsc msr pae mce cx8 apic sep mtrr pge mca cmov pat pse36 clflush mmx fxsr sse sse2 ss ht syscall nx pdpe1gb rdtscp lm constant_tsc rep_good nopl xtopology nonstop_tsc cpuid tsc_known_freq pni pclmulqdq ssse3 fma cx16 pcid sse4_1 sse4_2 x2apic movbe popcnt aes xsave avx f16c rdrand hypervisor lahf_lm abm 3dnowprefetch invpcid_single ssbd ibrs ibpb stibp fsgsbase tsc_adjust bmi1 hle avx2 smep bmi2 erms invpcid rtm mpx avx512f avx512dq rdseed adx smap clflushopt clwb avx512cd avx512bw avx512vl xsaveopt xsavec xgetbv1 xsaves arat md_clear arch_capabilities\n"
          ]
        }
      ]
    },
    {
      "cell_type": "code",
      "source": [
        "# оперативная память\n",
        "!grep MemTotal /proc/meminfo"
      ],
      "metadata": {
        "colab": {
          "base_uri": "https://localhost:8080/"
        },
        "id": "e_AQVQQaoVFR",
        "outputId": "4895dea7-53b0-4f60-baa3-7a963c9c5b99"
      },
      "execution_count": null,
      "outputs": [
        {
          "output_type": "stream",
          "name": "stdout",
          "text": [
            "MemTotal:       13297220 kB\n"
          ]
        }
      ]
    },
    {
      "cell_type": "code",
      "source": [
        "# диск\n",
        "!df -h"
      ],
      "metadata": {
        "colab": {
          "base_uri": "https://localhost:8080/"
        },
        "id": "58uYqrEBqrqj",
        "outputId": "64613011-1e1b-48e1-adc2-64e712bc539b"
      },
      "execution_count": null,
      "outputs": [
        {
          "output_type": "stream",
          "name": "stdout",
          "text": [
            "Filesystem      Size  Used Avail Use% Mounted on\n",
            "overlay          79G   23G   56G  29% /\n",
            "tmpfs            64M     0   64M   0% /dev\n",
            "shm             5.7G     0  5.7G   0% /dev/shm\n",
            "/dev/root       2.0G  1.1G  910M  54% /sbin/docker-init\n",
            "tmpfs           6.4G   52K  6.4G   1% /var/colab\n",
            "/dev/sda1        75G   41G   35G  55% /opt/bin/.nvidia\n",
            "tmpfs           6.4G     0  6.4G   0% /proc/acpi\n",
            "tmpfs           6.4G     0  6.4G   0% /proc/scsi\n",
            "tmpfs           6.4G     0  6.4G   0% /sys/firmware\n"
          ]
        }
      ]
    },
    {
      "cell_type": "code",
      "source": [
        "!du -h | sort -h"
      ],
      "metadata": {
        "id": "6AZaA5fOwXXC",
        "colab": {
          "base_uri": "https://localhost:8080/"
        },
        "outputId": "c575fb32-55bd-48a3-e65b-d63fde6077ad"
      },
      "execution_count": null,
      "outputs": [
        {
          "output_type": "stream",
          "name": "stdout",
          "text": [
            "8.0K\t./.config/configurations\n",
            "72K\t./.config/logs/2022.12.01\n",
            "76K\t./.config/logs\n",
            "108K\t./.config\n",
            "55M\t.\n",
            "55M\t./sample_data\n"
          ]
        }
      ]
    },
    {
      "cell_type": "code",
      "source": [
        "# права в Google Colab\n",
        "!whoami"
      ],
      "metadata": {
        "colab": {
          "base_uri": "https://localhost:8080/"
        },
        "id": "gBYRJ67qqMJ2",
        "outputId": "8c0f8713-2c5f-4aa8-b27e-a672f08e9369"
      },
      "execution_count": null,
      "outputs": [
        {
          "output_type": "stream",
          "name": "stdout",
          "text": [
            "root\n"
          ]
        }
      ]
    },
    {
      "cell_type": "markdown",
      "source": [
        "# Библиотека Pytorch"
      ],
      "metadata": {
        "id": "xJef-8rXrMR2"
      }
    },
    {
      "cell_type": "markdown",
      "source": [
        "## Установка"
      ],
      "metadata": {
        "id": "mV8n8faxvOQO"
      }
    },
    {
      "cell_type": "markdown",
      "source": [
        "Ссылки для установки под ваше оборудование можно найти [тут](https://pytorch.org/get-started/locally/)."
      ],
      "metadata": {
        "id": "ZOyzr4Vp2vgZ"
      }
    },
    {
      "cell_type": "code",
      "source": [
        "import torch"
      ],
      "metadata": {
        "id": "b_dqa87wrRMu"
      },
      "execution_count": null,
      "outputs": []
    },
    {
      "cell_type": "code",
      "source": [
        "torch.cuda.is_available()"
      ],
      "metadata": {
        "colab": {
          "base_uri": "https://localhost:8080/"
        },
        "id": "2vcNoQZ4zVJG",
        "outputId": "42d80878-f314-40b2-a54b-a20547a02827"
      },
      "execution_count": null,
      "outputs": [
        {
          "output_type": "execute_result",
          "data": {
            "text/plain": [
              "True"
            ]
          },
          "metadata": {},
          "execution_count": 74
        }
      ]
    },
    {
      "cell_type": "code",
      "source": [
        "!python -m pip list | grep torch"
      ],
      "metadata": {
        "colab": {
          "base_uri": "https://localhost:8080/"
        },
        "id": "Fs_NS9SKzZeH",
        "outputId": "f5f83b67-20c2-4613-e411-d6f3a22825c1"
      },
      "execution_count": null,
      "outputs": [
        {
          "output_type": "stream",
          "name": "stdout",
          "text": [
            "torch                         1.12.1+cu113\n",
            "torchaudio                    0.12.1+cu113\n",
            "torchsummary                  1.5.1\n",
            "torchtext                     0.13.1\n",
            "torchvision                   0.13.1+cu113\n"
          ]
        }
      ]
    },
    {
      "cell_type": "code",
      "source": [
        "# проверка доступности видеокарты, выбор устройства CPU или GPU\n",
        "device = torch.device('cuda' if torch.cuda.is_available() else 'cpu')\n",
        "device"
      ],
      "metadata": {
        "colab": {
          "base_uri": "https://localhost:8080/"
        },
        "id": "WwoKB5DtbJgq",
        "outputId": "36f63b00-440f-4152-f78c-6d13330a4d53"
      },
      "execution_count": null,
      "outputs": [
        {
          "output_type": "execute_result",
          "data": {
            "text/plain": [
              "device(type='cuda')"
            ]
          },
          "metadata": {},
          "execution_count": 134
        }
      ]
    },
    {
      "cell_type": "markdown",
      "source": [
        "# Домашнее задание"
      ],
      "metadata": {
        "id": "DJ9Uxo7DEns4"
      }
    },
    {
      "cell_type": "markdown",
      "source": [
        "Дедлайн домашнего задания - текущее воскресенье 23:59. "
      ],
      "metadata": {
        "id": "3hbaklz_96EN"
      }
    },
    {
      "cell_type": "markdown",
      "source": [
        "**Домашнее задание 0:** Создайте репозиторий на Github. Вся дальнейшая домашка загружается туда. Чуть позже в телеграм чате будет выложена форма для сдачи."
      ],
      "metadata": {
        "id": "E7VzrzlHyyci"
      }
    },
    {
      "cell_type": "code",
      "source": [
        "#https://github.com/MrMarvel/PyTorchDeep2022"
      ],
      "metadata": {
        "id": "e5A8OELNGdpr"
      },
      "execution_count": null,
      "outputs": []
    },
    {
      "cell_type": "markdown",
      "source": [
        "**Домашнее задание 1:** реализуйте XOR с помощью 3 нейронов. Запишите ответ в виде выражения, состоящего из объектов neuron() – моделей нейрона с пороговой функцией активации, внутри скобок может быть что угодно. Входы верхнего уровня называются x1 и x2. Пример фрагмента записи: neuron(1*x1 + 5*x2 - 0.1) + neuron(x1) (ответ будет выглядеть чуть сложнее, но других символов вроде && не потребуется)."
      ],
      "metadata": {
        "id": "me6riR-YEuYg"
      }
    },
    {
      "cell_type": "code",
      "source": [
        "class Neuron(torch.nn.Module):\n",
        "    def __init__(self):\n",
        "        super().__init__()\n",
        "    def forward(self, x):\n",
        "        return torch.heaviside(x, torch.tensor([0.0]))\n",
        "\n",
        "neuron = Neuron()\n",
        "\n",
        "def forward(x1, x2):\n",
        "    return neuron(neuron(x1+x2-0.5) - neuron(x1+x2-1.5) - 0.5)"
      ],
      "metadata": {
        "id": "KZnZmqMlWzYO"
      },
      "execution_count": null,
      "outputs": []
    },
    {
      "cell_type": "markdown",
      "source": [
        "**Домашнее задание 2:** нарисуйте backward граф для выражения `a*b+c*d`. [Теория и пример оформления](https://www.youtube.com/watch?v=MswxJw-8PvE). Сравните полученные теоретические значения с аттрибутами grad у исходных тензоров."
      ],
      "metadata": {
        "id": "UQmVNc2kEyQP"
      }
    },
    {
      "cell_type": "markdown",
      "source": [
        "![HW1_Ex3.drawio.png](data:image/png;base64,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)"
      ],
      "metadata": {
        "id": "t8yynbRWXXPs"
      }
    },
    {
      "cell_type": "code",
      "source": [
        "# TODO"
      ],
      "metadata": {
        "id": "IlwVlc-_WvJv"
      },
      "execution_count": null,
      "outputs": []
    },
    {
      "cell_type": "code",
      "source": [
        "a = torch.tensor([2.0], requires_grad=True)\n",
        "b = torch.tensor([4.0], requires_grad=True)\n",
        "c = torch.tensor([1.0], requires_grad=True)\n",
        "d = torch.tensor([5.0], requires_grad=False)"
      ],
      "metadata": {
        "id": "rHAT-rNxnh-X"
      },
      "execution_count": null,
      "outputs": []
    },
    {
      "cell_type": "code",
      "source": [
        "print(a.grad)\n",
        "print(b.grad)\n",
        "print(c.grad)\n",
        "print(d.grad)"
      ],
      "metadata": {
        "id": "yQUF6a8rnjyF",
        "colab": {
          "base_uri": "https://localhost:8080/"
        },
        "outputId": "26a57e50-da19-468f-f155-3ca7f5925332"
      },
      "execution_count": null,
      "outputs": [
        {
          "output_type": "stream",
          "name": "stdout",
          "text": [
            "None\n",
            "None\n",
            "None\n",
            "None\n"
          ]
        }
      ]
    },
    {
      "cell_type": "code",
      "source": [
        "loss = a*b + c*d\n",
        "loss.backward()"
      ],
      "metadata": {
        "id": "WQewq5DCnnPF"
      },
      "execution_count": null,
      "outputs": []
    },
    {
      "cell_type": "code",
      "source": [
        "print(a.grad)\n",
        "print(b.grad)\n",
        "print(c.grad)\n",
        "print(d.grad)\n",
        "\n",
        "print((a*b).grad_fn)\n",
        "print((c*d).grad_fn)\n",
        "print((a*b+c*d).grad_fn)"
      ],
      "metadata": {
        "id": "tDxWZCwQnojN",
        "colab": {
          "base_uri": "https://localhost:8080/"
        },
        "outputId": "dacfde49-98c1-4442-bbe9-4bd20b6bfb07"
      },
      "execution_count": null,
      "outputs": [
        {
          "output_type": "stream",
          "name": "stdout",
          "text": [
            "tensor([4.])\n",
            "tensor([2.])\n",
            "tensor([5.])\n",
            "None\n",
            "<MulBackward0 object at 0x7f5ddbb861c0>\n",
            "<MulBackward0 object at 0x7f5d664b50d0>\n",
            "<AddBackward0 object at 0x7f5ddbb861c0>\n"
          ]
        }
      ]
    },
    {
      "cell_type": "markdown",
      "source": [
        "**Домашнее задание 3:** Поэксперементируйте с размером тензоров, которые влезут на видеоркарту в Colab. Найдите максимальный размер тензора для типа данных float32, float64, float16, int32, int64. На сколько они отличаются."
      ],
      "metadata": {
        "id": "NxKEOwWDwv3Y"
      }
    },
    {
      "cell_type": "code",
      "source": [
        "# для float16\n",
        "a = None\n",
        "try:\n",
        "    a = torch.rand(3_800_500_000*2, dtype=torch.float16, device='cuda')\n",
        "    print(torch.cuda.memory_allocated()/1024/1024, \"MB\")\n",
        "    print(torch.cuda.memory_reserved()/1024/1024/1024, \"GB\")\n",
        "except:\n",
        "    print(\"Не хватает памяти\")\n",
        "finally:\n",
        "    del a\n",
        "\n",
        "print(gc.collect())\n",
        "torch.cuda.empty_cache()\n",
        "print(torch.cuda.memory_reserved()/1024**2, \"MB\", torch.cuda.memory_allocated()/1024**3, \"GB\")\n",
        "print()"
      ],
      "metadata": {
        "id": "cCrGQpIdWoj3",
        "colab": {
          "base_uri": "https://localhost:8080/"
        },
        "outputId": "8b253ced-712c-4244-f33c-c4874f6af276"
      },
      "execution_count": null,
      "outputs": [
        {
          "output_type": "stream",
          "name": "stdout",
          "text": [
            "14498.0 MB\n",
            "14.158203125 GB\n",
            "224\n",
            "0.0 MB 0.0 GB\n",
            "\n"
          ]
        }
      ]
    },
    {
      "cell_type": "code",
      "source": [
        "# для float32\n",
        "a = None\n",
        "try:\n",
        "    a = torch.rand(3_800_500_000, dtype=torch.float32, device='cuda')\n",
        "    print(torch.cuda.memory_allocated()/1024/1024, \"MB\")\n",
        "    print(torch.cuda.memory_reserved()/1024/1024/1024, \"GB\")\n",
        "except:\n",
        "    print(\"Не хватает памяти\")\n",
        "finally:\n",
        "    del a\n",
        "\n",
        "print(gc.collect())\n",
        "torch.cuda.empty_cache()\n",
        "print(torch.cuda.memory_reserved()/1024**2, \"MB\", torch.cuda.memory_allocated()/1024**3, \"GB\")\n",
        "print()"
      ],
      "metadata": {
        "colab": {
          "base_uri": "https://localhost:8080/"
        },
        "id": "ITZXWLAdbVn5",
        "outputId": "4d5f6682-e6b1-4a6a-c936-24a9520ed1a6"
      },
      "execution_count": null,
      "outputs": [
        {
          "output_type": "stream",
          "name": "stdout",
          "text": [
            "14498.0 MB\n",
            "14.158203125 GB\n",
            "448\n",
            "0.0 MB 0.0 GB\n",
            "\n"
          ]
        }
      ]
    },
    {
      "cell_type": "code",
      "source": [
        "# для int32\n",
        "a = None\n",
        "try:\n",
        "    a = torch.zeros(3_800_500_000, dtype=torch.int32, device='cuda')\n",
        "    print(torch.cuda.memory_allocated()/1024/1024, \"MB\")\n",
        "    print(torch.cuda.memory_reserved()/1024/1024/1024, \"GB\")\n",
        "except Exception as e:\n",
        "    print(\"Не хватает памяти\")\n",
        "    print(e)\n",
        "finally:\n",
        "    del a\n",
        "\n",
        "print(gc.collect())\n",
        "torch.cuda.empty_cache()\n",
        "print(torch.cuda.memory_reserved()/1024**2, \"MB\", torch.cuda.memory_allocated()/1024**3, \"GB\")\n",
        "print()"
      ],
      "metadata": {
        "colab": {
          "base_uri": "https://localhost:8080/"
        },
        "id": "KlMu824BcNxp",
        "outputId": "bd193d70-dfe4-4bf0-ec45-04bd00c1b54b"
      },
      "execution_count": null,
      "outputs": [
        {
          "output_type": "stream",
          "name": "stdout",
          "text": [
            "14498.0 MB\n",
            "14.158203125 GB\n",
            "0\n",
            "0.0 MB 0.0 GB\n",
            "\n"
          ]
        }
      ]
    },
    {
      "cell_type": "code",
      "source": [
        "# для float64\n",
        "a = None\n",
        "try:\n",
        "    a = torch.rand(3_800_500_000//2, dtype=torch.float64, device='cuda')\n",
        "    print(torch.cuda.memory_allocated()/1024/1024, \"MB\")\n",
        "    print(torch.cuda.memory_reserved()/1024/1024/1024, \"GB\")\n",
        "except:\n",
        "    print(\"Не хватает памяти\")\n",
        "finally:\n",
        "    del a\n",
        "\n",
        "print(gc.collect())\n",
        "torch.cuda.empty_cache()\n",
        "print(torch.cuda.memory_reserved()/1024**2, \"MB\", torch.cuda.memory_allocated()/1024**3, \"GB\")\n",
        "print()"
      ],
      "metadata": {
        "colab": {
          "base_uri": "https://localhost:8080/"
        },
        "id": "pGP0X_wBbXcY",
        "outputId": "37021b9f-25f7-49c0-9755-2f83a27a6edd"
      },
      "execution_count": null,
      "outputs": [
        {
          "output_type": "stream",
          "name": "stdout",
          "text": [
            "14498.0 MB\n",
            "14.158203125 GB\n",
            "448\n",
            "0.0 MB 0.0 GB\n",
            "\n"
          ]
        }
      ]
    },
    {
      "cell_type": "code",
      "source": [
        "# для int64\n",
        "a = None\n",
        "try:\n",
        "    a = torch.zeros(3_800_500_000//2, dtype=torch.int64, device='cuda')\n",
        "    print(torch.cuda.memory_allocated()/1024/1024, \"MB\")\n",
        "    print(torch.cuda.memory_reserved()/1024/1024/1024, \"GB\")\n",
        "except Exception as e:\n",
        "    print(\"Не хватает памяти\")\n",
        "    print(e)\n",
        "finally:\n",
        "    del a\n",
        "\n",
        "print(gc.collect())\n",
        "torch.cuda.empty_cache()\n",
        "print(torch.cuda.memory_reserved()/1024**2, \"MB\", torch.cuda.memory_allocated()/1024**3, \"GB\")\n",
        "print()"
      ],
      "metadata": {
        "colab": {
          "base_uri": "https://localhost:8080/"
        },
        "id": "DWLTVJzcdkm2",
        "outputId": "38f2f8da-e730-48a6-ecb6-49fc5766085c"
      },
      "execution_count": null,
      "outputs": [
        {
          "output_type": "stream",
          "name": "stdout",
          "text": [
            "14498.0 MB\n",
            "14.158203125 GB\n",
            "448\n",
            "0.0 MB 0.0 GB\n",
            "\n"
          ]
        }
      ]
    },
    {
      "cell_type": "markdown",
      "source": [
        "**Домашнее задание 4:** Напишите хороший пример неэффективного кода для занятия памяти видеокарты, который вызовет ошибку out of memory"
      ],
      "metadata": {
        "id": "CBR5pWOlzOtl"
      }
    },
    {
      "cell_type": "code",
      "source": [
        "import gc"
      ],
      "metadata": {
        "id": "mJ1bU_epQXDC"
      },
      "execution_count": null,
      "outputs": []
    },
    {
      "cell_type": "code",
      "source": [
        "\n",
        "with torch.no_grad():\n",
        "    torch.cuda.empty_cache()\n",
        "gc.collect()\n",
        "torch.cuda.memory_reserved()"
      ],
      "metadata": {
        "colab": {
          "base_uri": "https://localhost:8080/"
        },
        "id": "HdQfrTbaN-DN",
        "outputId": "7a4ea1dd-6ece-4dc4-cb47-48e04206b074"
      },
      "execution_count": null,
      "outputs": [
        {
          "output_type": "execute_result",
          "data": {
            "text/plain": [
              "0"
            ]
          },
          "metadata": {},
          "execution_count": 84
        }
      ]
    },
    {
      "cell_type": "code",
      "source": [
        "\n",
        "\n",
        "with torch.no_grad():\n",
        "    torch.cuda.empty_cache()\n",
        "gc.collect()\n",
        "\n",
        "def allocate_empty_tensor(dim_size):\n",
        "  a=torch.zeros(1024*1024*256,dim_size,dtype=torch.float32,device='cuda')\n",
        "  return a\n",
        "\n",
        "print(torch.cuda.memory_allocated()/1024/1024, \"MB\")\n",
        "print(torch.cuda.memory_reserved()/1024/1024/1024, \"GB\")\n",
        "print()\n",
        "print(\"FILLING\")\n",
        "try:\n",
        "    for i in range(13): # Trying to work with tensors from 1 GB to 13GB. GPU MAX 16GB\n",
        "        temp_working_tensor = allocate_empty_tensor(i)\n",
        "        print(torch.cuda.memory_allocated()/1024/1024, \"MB\")\n",
        "        print(torch.cuda.memory_reserved()/1024/1024/1024, \"GB\")\n",
        "        print()\n",
        "except Exception as e:\n",
        "    print(e)\n",
        "    print()\n",
        "temp_working_tensor = None\n",
        "\n",
        "print(\"CLEARING CACHE HARD\")\n",
        "gc.collect()\n",
        "with torch.no_grad():\n",
        "    torch.cuda.empty_cache()\n",
        "gc.collect()\n",
        "print(torch.cuda.memory_allocated()/1024/1024, \"MB\")\n",
        "print(torch.cuda.memory_reserved()/1024/1024/1024, \"GB\")\n",
        "print()"
      ],
      "metadata": {
        "colab": {
          "base_uri": "https://localhost:8080/"
        },
        "id": "MpP1UciHPaj9",
        "outputId": "f8f361ed-d3c2-42d0-d9b1-a1923b3e8519"
      },
      "execution_count": null,
      "outputs": [
        {
          "output_type": "stream",
          "name": "stdout",
          "text": [
            "0.0 MB\n",
            "0.0 GB\n",
            "\n",
            "FILLING\n",
            "0.0 MB\n",
            "0.0 GB\n",
            "\n",
            "1024.0 MB\n",
            "1.0 GB\n",
            "\n",
            "2048.0 MB\n",
            "3.0 GB\n",
            "\n",
            "3072.0 MB\n",
            "6.0 GB\n",
            "\n",
            "4096.0 MB\n",
            "10.0 GB\n",
            "\n",
            "9216.0 MB\n",
            "9.0 GB\n",
            "\n",
            "CUDA out of memory. Tried to allocate 6.00 GiB (GPU 0; 14.76 GiB total capacity; 9.00 GiB already allocated; 5.16 GiB free; 9.00 GiB reserved in total by PyTorch) If reserved memory is >> allocated memory try setting max_split_size_mb to avoid fragmentation.  See documentation for Memory Management and PYTORCH_CUDA_ALLOC_CONF\n",
            "\n",
            "CLEARING\n",
            "4096.0 MB\n",
            "4.0 GB\n",
            "\n"
          ]
        }
      ]
    },
    {
      "cell_type": "code",
      "source": [
        "\n",
        "torch.cuda.empty_cache()\n",
        "gc.collect()\n",
        "torch.cuda.memory_reserved()"
      ],
      "metadata": {
        "colab": {
          "base_uri": "https://localhost:8080/"
        },
        "id": "6TR7m9TLRCVE",
        "outputId": "cde34abe-a293-409e-cb12-ab62b7c6c35f"
      },
      "execution_count": null,
      "outputs": [
        {
          "output_type": "execute_result",
          "data": {
            "text/plain": [
              "0"
            ]
          },
          "metadata": {},
          "execution_count": 86
        }
      ]
    },
    {
      "cell_type": "markdown",
      "source": [
        "**Домашнее задание 5:** Используя один линейный слой `nn.Linear` и один входной тензор `x` подберите подберите размерности так, чтобы занимать всю видеопамять.\n",
        "Попробуйте применить линейный слой к тензору `x`. Что произойдет? Кратко опишите ваши эксперименты. Что вы поняли?"
      ],
      "metadata": {
        "id": "0_hOtvvR89jq"
      }
    },
    {
      "cell_type": "markdown",
      "source": [
        "![image.png](data:image/png;base64,iVBORw0KGgoAAAANSUhEUgAAAUkAAABdCAYAAAAoupSRAAAVwklEQVR4nO3df3CU9Z3A8ff+CjwJuIEhlIVz4W61x+Kw2kCbaIlTo1yc69IaOw2OoWdChvTGpAaY4F2RFrwW2woV4yU6jReFShybnqY3cHemlngVq8ERlGU0jJI72R4skpxkJeEh7K/7YzfZJ8lms4F91l+f1wwzJLvP9/vN9/l+P/v98TzPGgoLCyMIIYRIyPhJF0AIIT7NJEgKIUQSEiSFECIJCZJCCJGEBEkhhEhCgqQQQiQhQVIIIZKQICmEEElIkBRCiCQkSAohRBISJMXnQtm2Flq2lX3SxRCfQ+bLOchxex2Vbhc2Jfqz/9RhOvY8TkdPOosmhBCfvCmPJJVVm9n0XSfm99ppemQnO59o5+Q0F2U/qKdE0aOIQgjxyTFM7SlALu7dWceSD9vYtKMDdfjXSimbd7m56q2d/OOvuuGmOhqrXIyLmec9NK9v4BCAo5T66ltxzlEgrOI78gI7nujET3TqdPPgYU7bluGwAmE/3c83sfPF6FBVyS/n/jVF2K0WCAfw93TQ9PN2eibKFy8dVQ/CthZK6KBqW1s0nZX17LjLSe9LVTz4XDTfkqs1h4VVfMf28fRjHfTEyqU9HsrY2lICsePBQcl9laxaakMxAqqPQ89tp/nVaE057thMze0OrBZNHn/Wphc3rizDf8lwXko+5fVrKLJbsRgh4O+ho+kh2nuI13/fIXb+QzPdI0crlG7ehdsRxNNSS8Nr0fOwuaYEx6hCaeorQRnUo83UPraQrS030z+cTjIJzot6tJln+B7Vc97nkOlaCuZF24H31ad4eM+RWNtKXp9KfgX3ry3CPpxwmOjH/pj2Mva8jT7vY88hcNdWWgr7421VKaLih6UULbAC4H9/P082tNOtJiij30vn3odpPaLG/u5reX+kjgq495FqXAOd7PhxKz2ziqnY4I6ne+og7T/bzUEVhtuWXVuPsbaiLC6lpjLed3q7D/DkI+0kmshN1o4m62tgpbhyE+6bbFiNgN/HwRe2szt2DibvE+C4o551tznJU6Ln8PDzO3j8ZX/sHJZz/5pi7FbG9bekdYuC8zs13HPLcLq9dP/hSXb+LnpkwX2NydtWsv4zxtRGktcVYp8V4IO3NQESQG3H4w2QtyBf0xFUPC1VVFVF/zUf1RyhFFH3AzfzfS+wpbaWLXs8mK8vY/1dtvhbHPM5/bsH2VjfQPt74PxuJeULANxsqC7G6m1jS20Vtb88iH+Rm8o1NnitgdqqKqqqmvGcj3bEaP4PMj4Mufjebc7xAfXPHbFjatny3AfkXl/K6lWpVY+zah1lSwK8/thGqqo20noim4K7aigGuK6adavsXHi9gY2xOun48yQJjpSliqqqDryal9x11RTPOknbj2qpqt3JwY/tuNeWY9MeP2cxt1yv+XnBnSxzaIOhk+pqN/aBLhrqY/m8FM+lbZv2d146YmWpfexQahUyyuj2MJLGgoVc1fUUW+q3sPu1fmw3r6XmlljpktUnLr63ughbXyc7a2N16euktnYLre+A847VlCac2Uxw3ifkoPyH5RSGD9NQX8XGR9s5Pc9NzboCAApqauJlrN1Ju89K8drhMo7J+fulLMv2cXBPKz04qLi/nMJpJ2h9oJbaB1o5OaOIih9X4NAc430pXmdV29pAKaGm1s0i/yvR8jz2OuqX3WzYVDLx35SkHUGyvgaOe35IeYGZE89tidatN5uiyq1UOMblkpCyoo4Nq+bja48ev/stM67V6ylbACwo4/7qYqzeVrbUVrHxyTdhSVm0L09St8rKGmr+dhEf/7GBjVUbaehSuWbVBupXamohSdtKqf/ETC1IWhVmECQwOP6l3oEgXDUHVyoV9+1iXFnddDzaiU9V8b3azMs9YL+2aOQ96vEOdr/ixX/Ow/7Gg/QEbCy9zQbKYX7zzw+x41ed+FRQj7fSfQZsf1mUJMfxHPfcTUGOOjrYj6Jy4fwFLhHk0kBqaZ4+sIedP3+U1mN+wE/nGydRlfksXg4stZGHD88eD/4plTQRhcPPN/DQw810nlFB7ab1uA/mXYOmBvGfy2bJrfHu6vrWMmyBAIGR3yzFNgd87+7Gc+6KC3V5Th2mad8RfOd8HHy6Dc85hWuWlwCT1OfyFSyeo9L9+9bYiA4IB1BVH52/6sJrceByj89u8vM+xk1ublzQT9eTrXjOgf/Yflrf6kVZtIx8Sii6zkrv683RMqrd7G/s4NCHAeZcNzbjCu7+Wi6+V56mtSea7vK5fjzPPk7nGRX1TCcNew7jn7sc900TF0f5diFOcw8HdrXFytPKwy/2YF5cyKrLXO6asK9RgPsrefiPPsvjB3zRun10N4fP5bH8mwUppKyw6jYX5uMdNMSOP9jyMifCdpw3ge22fOzh4TgA/jd20/Zf3QSmOSFp3Sqs+roTc88Bdv3Wgx8/nr0P09Fjxvn1VfEPiwnbVir9J+6yNm6ulGtuHkyzU9bSwqj9SO3IKnwp/n/1RU6edXOj1Q7qIfpyylm/fVN0up3o2MkoblbfmIv3QBfcPqZari6hpaUknvX77bS+nFqy/g+haN0maoanB9EUsGQBx3z0rszHebcT5dnu1DtpQiq+vqsor93Opth0IWr0GOHk2ye4dkUhpUon7Woxf3OdFd973eRetyj2jmP4+krIX1yOU9EEm5QpuKpaaKmKleqMh31PNUxtAy8c0NSFh2P/q7IsNzb9TFafC/Kw0osv0VRfPUn/ebjWVgBoRr0Jz/tBTpwpoWjJcB1YsSuadmXPRSGPon9qGd2BzvuwYCVnmoqvx6fJu4Pmn3RE/z8S7ByU31NI7qmD7Hi2J57u0Gl6jmrSPOqlL7CMXDswwRKGa24enHuTLs25Ut/vox8Xtq9MfFxSE/U1FpI7M8DpEx7Nmz14PwqwbPZCRtVt4tJiywXL1WW0tIy+8sBrArt1BvQd4xVt6s/tJJpbWZK6LaBuHfS/1aVpOyrH/68ft9MWH6hN2LZS6z/DphYk/SoDmLHkjH8pb4YZPu7DM/6lxMatlyWTi2W43S4oY/3aYqzH23hwTwfec8PrIqmyUFJ7O45zXTz02wusuX3My5o1QuvSctbXlFKz5jBb9sZO1pggCvGqLVhXQ+mSXjqf2MILR3yosTUpAN55hrYDNtbeWk/jrdr8Ui64ho2yukqKr+qmbftuOj7wR9fRVo5523//nndvqGPZd2y8OFDINeYeOt4IcOvIKKebZ37TiW1tMfWN2gli4sYynhpf25xVTN2PyildXcorD7Vf9odAtiXeJJPWp2mqKU903n20PrWfhTXueB2EgcHe+KGBHtr//iH2j0uzjLHNZzwFV9VmIEDP8y8kXDeMy46386lQzGRdxmGJ5U5ahmzT1ArZ+0Zsr2KMgvumlMykFHPyWoi3rRT7T8zUptvvdOE9Z2HRDWPWP5QSFs+30HvqSEqdw/tRP8yxk79Am4aSZJ3IxRwrDPi9sNBGnsVL16PRAAmK5pMgBbnLKPnyAIee2z1Jg41OZbrPgO0azRgiyfrOwtkK6rsv0nrEF62HUeVS6e4dRLs2N+ma5ITs2HIteN9oiJ5gQDEmarge2t/2YbuhlMobHATf66I9PPodancfg2jWb19KNUCOca6Trg9ULHPtKS25JGbDNttCYDD6NyWtT28/Kgq5Y6e1AOSRMx36+zQf2cnOe087D23UrP0d0NTBh4OolvksvkXz/pG26mdwSMHm0KxkKfm47y6laKRtq3Q/v5O2YxdwfOt+yobX8rz9qNPm49CuGV8/Bysq/UlOgedsL8yaT6Gmsyh/kUs2vfjemvi41Gn6GifpP29h/jWuca+rH51MIS0vfYOQZ88ftdanKNHCe/0DMMfGzZrXHLeUUb7SRfK69eDrh9wFhZqYobDQmg39vgkGatq2lWr/iZriJUAenv5jD+bFpWy9z03+dU6cy93UbSvFae7h1V+nNi70Pd9FT8BG0b0VFMwCZV4RFVt2sf37+SPvUZasomKFDUWxUby+BKfRy5E/+GKjWRv5VUXYF9kpqnxA0yBTMNNK1nsv88zRyd9qXVqOcx70+o6llPSFiwGUvyrCnW/Hnu+m/g7tjm50w4Dj+2i+nCnRKB+jDoHt+mqKFtmx31zBAysSLTmD73kP3lnLWHa1n3cPdI573fV3t+Ckm31PXs5mjMasYgoXKQTOelOfTQBcXUj9KhdWrLjWVFM4V6X7T9HpatL6fO0YH6h5uL5dilOJfVAaLShYKV5fjMPio/uPmo/sKZz3UV7+PZ4+BeeqetyLFZjlwl27nR2b3eTRwcF3/OTdWE35UisoTty1ayi9yYHlVDyJQH83HY820XHGRsmmrdFA+dp+3jxrxVVWQdE8BWVeMffe7cJ69k32J2kf6r910R10UFTrxjULrEvL2HCbg+DxLvZd5vB9wr7GIfa/1Yv1+rL46zV345rVy5v/nkp78fFCVw+BeUXUVBZgRcG2ooIHfrmd6nzw/eEIXqOTkvXF2BSwfq2CytUlOL/UC0nrVmXfn7oJOoqoGW47393ArY4g3X/aFx+oTdi2Uu8/cBlrkuq+h9gRqKPSXUpN7FPQf+owbTsepyPVk6TuZ9ejFjZUl1C9MzpK83/Qyd5fH4m/5VQvC+/8KY2VwFAvnt/tpe0UcKqZJ/dtpuabFWy9KboO5vlgDsuys7EBvoQZagR6eLGxY+IRr3Y6HQ7g93ayN8Xgv7+hlflbVlNas5XSsB/vax56Vzix5MQ2DKxeOh5LknfKumlu3s/mGjcVPyoA1YfnmJc5yxWyx35gqPvw9BRjzzlM+1E062SMbCZ4X2xI/dyNMn5Nsv03U5xqnz1NoLCaR+6IXaZx4KmRD5Fk9QmdND13DQ/c5aa+MbZDEy6msaUYwn569j1NqyZQTXreJ+Sh+eetmOvvpHRTI6UMr73upxfobWoi975KVt33CMVGUPu62d/YxPiPox7aftGKbXsFJTV19P2kgd0Pt5JdfycV24uoIHoJUOuuSWY4agdNjdlsqHZTt7M0dgnQfpqeuPx2NWFfA3r2/IzW7E3cec9PKaokegnQ3h3s1hYywRIUKxup89bSsG8XDVkbWLeymkdWAGE/3pf38swRgDYebrZw/5pyftpYDmE/vtda2RFb2jqUrG5faqLpqg2s+2Ydj9xB9BKg/2ii6SVNLUzYtibpP6dG/ylTvE4yM8q2tXDzR82XeamJ+KwouK+R6tmvJLxOdKrGX68nUqFPXytL/RpanaSzbcm920IIkcQncgmQEOLzrI0Hqz4/I/pP5XRbCCE+LaY0kszNzWXu3LmYTFO+SE3oIBQKcfbsWfr7+z/pogjxuTWlIDl37ly8Xi8XL17UqzyfeeZIBBMwZDDontf06dOx2+0SJIXQ0ZQ2bkwmkwTISTR8eI61/Sne7H2FLl68KKN6IXQmu9tpZoxEpFKF+ByR3e00M5GZT54idQjnUICDGchLiC8yGfSkmSUcwRTR/4KBvGCIbwxc+b07QojkJEim2TRgegbyMQFkYHNIiC86CZJpZIxEsITDZIXCk7/5SoUjgFziKoTeJEim0YwIXDSZyMnAdNtgMGCQkaQQupMgmUYzwmEGDJAT1j9IGiMRMhCLhfjCk93tNLLOUwmuOs2XcobgX2frmte0mz9ixhIfvD217/YRQkyNjCTTaEZWEP+QhRlZId3zMhiQJUkhMkCCZBrNnBbk/JCZoZCRbIu+gdJABIOcPSF0J90sjWZkRYPkwCUzOZagrnmZDGCQkaQQupMgmUYzs4IMXDIzcMnEzGn6jyQjMt8WQncSJNNoZlaQ85cyM5I0GEEuABJCfxIk02jGtCAfD5kYuGRiRpbOQZKI3HAjRAZIkEyjq7JCIyNJvXe4TQbkOkkhMkCCZBrNnBZdkxwMmPUfSRoiMt0WIgMkSKbR8O72+SGT7iNJA8jZEyIDpJul0fDudiZGkkZDBIPMt4XQnQTJNJoR290+P2TSfXfbKLvbQmSEBMk0ybaECISNBMMGBgNm3a+TNBqQO26EyADpZmkyvB4JZOY6SeQpQEJkggTJNJmZFWQgMBwk9b/jxmiIyAMuhMgACZJp8lbebL5h/wYA7zGTry5bqWt+33d8ldlf/Y6ueQghJEimTTDbiFmNfm2D6UKYoKLvtkrECGTgWyKE+KKTIJkmQcWI+UIsSF6KEDEbiJj1C5QRA8h8Wwj9SZBMk2C2AfOFeNAyqxGC03UcTRoNEiOFyAAJkmkSzI6PJAFMF0K6TrkjBmLfmCiE0JMEyTTRrklCdCQZyjbpll/EiHxbohAZIEEyTYJKgum2nps3RnkMkBCZIEEyTYI5Y6bbaphQtn7VG5FBpBAZIUEyTaIjSe10O6zrxo2sSQqRGRIk0ySUY8Y0qN24CRNUdKxekwGDPOJCCN1JkEyT6CVAYzdu9JxuR2RNUogMkCCZBmFT9J/pkmbj5mJE55GkUXa3hcgACZJpEMoxYR4cfY+gaTCk70iSCIRkJCmE3iRIpkEw24BZHR2woiNJHTdujAZ56q4QGSBBMg20920P0/+2ROQBF0JkgATJNBh7SyJEd7dDOXrecSO720JkggTJNBi7sw0ZuE4S2d0WIhMkSKZBdCQ5OmCZLuh7xw0mg0y3hcgACZJpkGi6bYiAcShCaLo+VRyRfRshMkKCZBpEnwA0fuqr5w53xIhMt4XIAAmSaRDKNmIaHP/FX7peK2k0yL3bQmSA+ZMuwOdBouk26DySNCC720JkgIwk02DCIKmGCeq4Jom+31orhECCZFok2t0GnXe4TQbkS26E0J8EyTQIKoZRX90wTM+nk0cMEQwSI4XQnQTJNJhouh19OrlOd90YjTKQFCIDJEheoaBiwHwxkjBgmdWwjCSF+IyTIHmFghNc/gM6T7fle7eFyAgJkldooqk2xDZu9HrwrhG5TlKIDJAgeYVCOaaEd9vA8HRbp0uA5ClAQmSEBMkrFFQM455KPkzPS4AiRGQkKUQGSJC8QtH7thMHSd3uuDEABhlJCpEJEiSvUKJnSQ7T6+nkEQMYwpHoNyYKIXQ15Xu3D/9knh7l0J35QpigZuprHgwTzIn/rHwYRP2Spjo0N7RM6wsyNCf+2rSPQgzNjl7/GMoycPV/nk+Yp3EoTPaZIId/Om8kLdPF8Mjj00xq4o0dbfqMubFm5olLYICZ/xPgy3vOwdVzUqwBIcTlmHKQdP3irB7l0F1whhHzQDjln0PTDJiGIim91zIw8dNv//pfPpqwHGPTSfSesNmAMRiPksFsA6aLEUxDkZHyCSH0M6UgGQqFmBnM4uLFi3qVRzdjA9nkP6f+3svNd6J0kqWvLdf06dMJheQpF0LoaUpB8uzZs9jtdkwm/b7gSqQuFApx9uxnc2QvxGfFlIJkf38//f39epVFCCE+dWR3WwghkpAgKYQQSUiQFEKIJCRICiFEEv8PJ152N6PIxesAAAAASUVORK5CYII=)"
      ],
      "metadata": {
        "id": "RERd_KU3eVGu"
      }
    },
    {
      "cell_type": "code",
      "source": [
        "import torch\n",
        "try:\n",
        "    a = torch.nn.Linear(70000, 50000, device='cuda')\n",
        "    b = torch.ones(70000, device='cuda')\n",
        "    print(a(b).size())\n",
        "    c = a(b)\n",
        "    del a, b, c\n",
        "except:\n",
        "    print(\"Упс\")\n",
        "\n",
        "try:\n",
        "    a = torch.nn.Linear(70000, 80000, device='cuda')\n",
        "    b = torch.ones(70000, device='cuda')\n",
        "    print(a(b).size())\n",
        "    del a, b\n",
        "except:\n",
        "    print(\"Упс\")"
      ],
      "metadata": {
        "id": "oKECp39TW1Lv",
        "colab": {
          "base_uri": "https://localhost:8080/"
        },
        "outputId": "10e1ece9-68b9-43f0-8b97-835f0d09412b"
      },
      "execution_count": null,
      "outputs": [
        {
          "output_type": "stream",
          "name": "stdout",
          "text": [
            "torch.Size([50000])\n",
            "Упс\n"
          ]
        }
      ]
    },
    {
      "cell_type": "markdown",
      "source": [
        "# Рекомендуемые ссылки"
      ],
      "metadata": {
        "id": "_Z2Ot37UODKM"
      }
    },
    {
      "cell_type": "markdown",
      "source": [
        "- [Нейронные сети и компьютерное зрение, Samsung AI Center, часть 1](https://stepik.org/course/50352/syllabus)\n",
        "- [Cимулятор](https://playground.tensorflow.org/) нейронов и нейронных сетей"
      ],
      "metadata": {
        "id": "SnFY95T7kNji"
      }
    }
  ]
}